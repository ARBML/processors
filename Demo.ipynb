{
 "cells": [
  {
   "cell_type": "code",
   "execution_count": 10,
   "metadata": {},
   "outputs": [
    {
     "name": "stdout",
     "output_type": "stream",
     "text": [
      "Will not apply HSTS. The HSTS database must be a regular and non-world-writable file.\n",
      "ERROR: could not open HSTS store at '/home/zaid/.wget-hsts'. HSTS will be disabled.\n",
      "--2020-08-08 02:46:01--  https://raw.githubusercontent.com/ARBML/tkseem/master/tasks/meter_classification/meters/data.txt\n",
      "Resolving raw.githubusercontent.com (raw.githubusercontent.com)... 151.101.36.133\n",
      "Connecting to raw.githubusercontent.com (raw.githubusercontent.com)|151.101.36.133|:443... connected.\n",
      "HTTP request sent, awaiting response... 200 OK\n",
      "Length: 5356534 (5.1M) [text/plain]\n",
      "Saving to: ‘data.txt’\n",
      "\n",
      "data.txt            100%[===================>]   5.11M   376KB/s    in 13s     \n",
      "\n",
      "2020-08-08 02:46:16 (408 KB/s) - ‘data.txt’ saved [5356534/5356534]\n",
      "\n",
      "Will not apply HSTS. The HSTS database must be a regular and non-world-writable file.\n",
      "ERROR: could not open HSTS store at '/home/zaid/.wget-hsts'. HSTS will be disabled.\n",
      "--2020-08-08 02:46:16--  https://raw.githubusercontent.com/ARBML/tkseem/master/tasks/meter_classification/meters/labels.txt\n",
      "Resolving raw.githubusercontent.com (raw.githubusercontent.com)... 151.101.112.133\n",
      "Connecting to raw.githubusercontent.com (raw.githubusercontent.com)|151.101.112.133|:443... connected.\n",
      "HTTP request sent, awaiting response... 200 OK\n",
      "Length: 108003 (105K) [text/plain]\n",
      "Saving to: ‘labels.txt’\n",
      "\n",
      "labels.txt          100%[===================>] 105.47K   205KB/s    in 0.5s    \n",
      "\n",
      "2020-08-08 02:46:18 (205 KB/s) - ‘labels.txt’ saved [108003/108003]\n",
      "\n"
     ]
    }
   ],
   "source": [
    "!wget https://raw.githubusercontent.com/ARBML/tkseem/master/tasks/meter_classification/meters/data.txt\n",
    "!wget https://raw.githubusercontent.com/ARBML/tkseem/master/tasks/meter_classification/meters/labels.txt"
   ]
  },
  {
   "cell_type": "code",
   "execution_count": 1,
   "metadata": {},
   "outputs": [
    {
     "name": "stdout",
     "output_type": "stream",
     "text": [
      "Remove special characters\n",
      "Remove diacritics\n",
      "Saving to cleaned_data.txt\n",
      "Split data\n",
      "Save to data\n",
      "Read data  ['test_data.txt', 'test_lbls.txt', 'train_data.txt', 'train_lbls.txt']\n"
     ]
    }
   ],
   "source": [
    "from processors import clean, split_classification_data, read_data\n",
    "clean(file_path = 'data.txt', save_path = 'cleaned_data.txt', remove_diacritics=True, remove_special_chars= True, \n",
    "      execluded_chars=['#', '!', '.', '?'])\n",
    "split_classification_data('data_processed.txt', 'labels.txt')\n",
    "train_data, test_data, train_lbls, test_lbls = read_data()"
   ]
  }
 ],
 "metadata": {
  "kernelspec": {
   "display_name": "Python 3",
   "language": "python",
   "name": "python3"
  },
  "language_info": {
   "codemirror_mode": {
    "name": "ipython",
    "version": 3
   },
   "file_extension": ".py",
   "mimetype": "text/x-python",
   "name": "python",
   "nbconvert_exporter": "python",
   "pygments_lexer": "ipython3",
   "version": "3.8.2"
  }
 },
 "nbformat": 4,
 "nbformat_minor": 4
}
