{
 "cells": [
  {
   "cell_type": "code",
   "execution_count": 3,
   "metadata": {},
   "outputs": [],
   "source": [
    "import tnkeeh as tn \n",
    "from datasets import load_dataset"
   ]
  },
  {
   "cell_type": "code",
   "execution_count": 4,
   "metadata": {},
   "outputs": [
    {
     "output_type": "stream",
     "name": "stderr",
     "text": [
      "Reusing dataset metrec (/home/zaid/.cache/huggingface/datasets/metrec/plain_text/1.0.0/0aa53fa2a3ad2b8c6301f689d374ca15ee2b410077a2bb35a85766425cd5b435)\n"
     ]
    }
   ],
   "source": [
    "dataset = load_dataset('metrec')"
   ]
  },
  {
   "cell_type": "code",
   "execution_count": 5,
   "metadata": {},
   "outputs": [
    {
     "output_type": "execute_result",
     "data": {
      "text/plain": [
       "DatasetDict({\n",
       "    train: Dataset({\n",
       "        features: ['text', 'label'],\n",
       "        num_rows: 47124\n",
       "    })\n",
       "    test: Dataset({\n",
       "        features: ['text', 'label'],\n",
       "        num_rows: 8316\n",
       "    })\n",
       "})"
      ]
     },
     "metadata": {},
     "execution_count": 5
    }
   ],
   "source": [
    "dataset"
   ]
  },
  {
   "cell_type": "code",
   "execution_count": 6,
   "metadata": {},
   "outputs": [
    {
     "output_type": "stream",
     "name": "stderr",
     "text": [
      "Loading cached processed dataset at /home/zaid/.cache/huggingface/datasets/metrec/plain_text/1.0.0/0aa53fa2a3ad2b8c6301f689d374ca15ee2b410077a2bb35a85766425cd5b435/cache-8b2aa90713d28589.arrow\n",
      "Loading cached processed dataset at /home/zaid/.cache/huggingface/datasets/metrec/plain_text/1.0.0/0aa53fa2a3ad2b8c6301f689d374ca15ee2b410077a2bb35a85766425cd5b435/cache-2d37aca31a07b63b.arrow\n"
     ]
    }
   ],
   "source": [
    "cleander = tn.Tnkeeh(remove_diacritics = True)\n",
    "cleaned_dataset = cleander.clean_hf_dataset(dataset, 'text')"
   ]
  },
  {
   "cell_type": "code",
   "execution_count": 7,
   "metadata": {},
   "outputs": [
    {
     "output_type": "stream",
     "name": "stdout",
     "text": [
      "يا ضيف طيف ما هداه لمضجعي # إلا لهيب في الحشى يتوقد\nيا ضيفَ طيفٍ ما هَداهُ لمَضجَعي # إلا لهيبٌ في الحشى يتوقّدُ\n"
     ]
    }
   ],
   "source": [
    "print(cleaned_dataset['train'][0]['text'])\n",
    "print(dataset['train'][0]['text'])"
   ]
  }
 ],
 "metadata": {
  "kernelspec": {
   "display_name": "Python 3",
   "language": "python",
   "name": "python3"
  },
  "language_info": {
   "codemirror_mode": {
    "name": "ipython",
    "version": 3
   },
   "file_extension": ".py",
   "mimetype": "text/x-python",
   "name": "python",
   "nbconvert_exporter": "python",
   "pygments_lexer": "ipython3",
   "version": "3.8.2-final"
  }
 },
 "nbformat": 4,
 "nbformat_minor": 4
}